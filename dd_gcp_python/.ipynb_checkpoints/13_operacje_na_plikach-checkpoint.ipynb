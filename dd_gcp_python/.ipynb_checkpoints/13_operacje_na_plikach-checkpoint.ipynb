{
 "cells": [
  {
   "cell_type": "code",
   "execution_count": 4,
   "id": "4c63e26f-1316-4e85-966d-107676088d8d",
   "metadata": {
    "tags": []
   },
   "outputs": [
    {
     "name": "stdout",
     "output_type": "stream",
     "text": [
      "             Data    Otwarcie   Najwyzszy   Najnizszy  Zamkniecie    Wolumen\n",
      "0      1984-09-07    0.099605    0.100827    0.098402    0.099605   98811715\n",
      "1      1984-09-10    0.099605    0.099910    0.097210    0.099014   76694011\n",
      "2      1984-09-11    0.099910    0.102620    0.099910    0.100827  180849030\n",
      "3      1984-09-12    0.100827    0.101417    0.097791    0.097791  157987052\n",
      "4      1984-09-13    0.103232    0.103526    0.103232    0.103232  246058991\n",
      "...           ...         ...         ...         ...         ...        ...\n",
      "10349  2025-10-06  257.990000  259.070000  255.050000  256.690000   44664118\n",
      "10350  2025-10-07  256.805000  257.400000  255.430000  256.480000   31955776\n",
      "10351  2025-10-08  256.520000  258.520000  256.110000  258.060000   36496895\n",
      "10352  2025-10-09  257.805000  258.000000  253.140000  254.040000   38322012\n",
      "10353  2025-10-10  254.940000  256.380000  244.000000  245.270000   61999098\n",
      "\n",
      "[10354 rows x 6 columns]\n"
     ]
    }
   ],
   "source": [
    "# --------------------------------------------\n",
    "# import bibliotek\n",
    "# --------------------------------------------\n",
    "import pandas as pd\n",
    "from google.cloud import storage\n",
    "\n",
    "# --------------------------------------------\n",
    "# wskazanie konkretnego bucket i pliku na nim\n",
    "# --------------------------------------------\n",
    "\n",
    "client = storage.Client()\n",
    "bucket = client.get_bucket(\"dorian_zasobnik\")\n",
    "blob = bucket.blob(\"aapl.csv\")\n",
    "data_bytes = blob.download_as_bytes()\n",
    "\n",
    "# --------------------------------------------\n",
    "# wczytanie dataframe\n",
    "# --------------------------------------------\n",
    "\n",
    "df = pd.read_csv(pd.io.common.BytesIO(data_bytes))\n",
    "\n",
    "# --------------------------------------------\n",
    "# arguemtny funkcji read_csv\n",
    "# --------------------------------------------\n",
    "\n",
    "# 1) -> ścieżka\n",
    "# 2) -> index = 0 -> numer kolumny 0 jako index\n",
    "# 3) -> skiprows = 10 -> pomiń 10 pierwszych wierszy\n",
    "# 4) -> nrows = 100 -> wczytamy 100 pierwszych wierszy\n",
    "\n",
    "# --------------------------------------------\n",
    "# wyswietl df\n",
    "# --------------------------------------------\n",
    "\n",
    "print(df)"
   ]
  }
 ],
 "metadata": {
  "environment": {
   "kernel": "conda-base-py",
   "name": "workbench-notebooks.m134",
   "type": "gcloud",
   "uri": "us-docker.pkg.dev/deeplearning-platform-release/gcr.io/workbench-notebooks:m134"
  },
  "kernelspec": {
   "display_name": "Python 3 (ipykernel) (Local)",
   "language": "python",
   "name": "conda-base-py"
  },
  "language_info": {
   "codemirror_mode": {
    "name": "ipython",
    "version": 3
   },
   "file_extension": ".py",
   "mimetype": "text/x-python",
   "name": "python",
   "nbconvert_exporter": "python",
   "pygments_lexer": "ipython3",
   "version": "3.10.18"
  }
 },
 "nbformat": 4,
 "nbformat_minor": 5
}
