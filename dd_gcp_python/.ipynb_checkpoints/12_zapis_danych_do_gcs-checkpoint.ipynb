{
 "cells": [
  {
   "cell_type": "code",
   "execution_count": 1,
   "id": "370e911f-4f09-4cd4-a380-dbcbaa2ccf94",
   "metadata": {
    "tags": []
   },
   "outputs": [
    {
     "name": "stdout",
     "output_type": "stream",
     "text": [
      "Plik zapisany w: gs://dorian_zasobnik/aapl.csv\n"
     ]
    }
   ],
   "source": [
    "import pandas as pd\n",
    "from google.cloud import storage\n",
    "\n",
    "df = pd.read_csv(\"https://stooq.pl/q/d/l/?s=aapl.us&i=d\")\n",
    "\n",
    "bucket_name = \"dorian_zasobnik\"\n",
    "destination_blob_name = \"aapl.csv\"\n",
    "client = storage.Client()\n",
    "bucket = client.bucket(bucket_name)\n",
    "blob = bucket.blob(destination_blob_name)\n",
    "\n",
    "blob.upload_from_string(df.to_csv(index=False), \"text/csv\")\n",
    "\n",
    "print(f\"Plik zapisany w: gs://{bucket_name}/{destination_blob_name}\")"
   ]
  }
 ],
 "metadata": {
  "environment": {
   "kernel": "conda-base-py",
   "name": "workbench-notebooks.m134",
   "type": "gcloud",
   "uri": "us-docker.pkg.dev/deeplearning-platform-release/gcr.io/workbench-notebooks:m134"
  },
  "kernelspec": {
   "display_name": "Python 3 (ipykernel) (Local)",
   "language": "python",
   "name": "conda-base-py"
  },
  "language_info": {
   "codemirror_mode": {
    "name": "ipython",
    "version": 3
   },
   "file_extension": ".py",
   "mimetype": "text/x-python",
   "name": "python",
   "nbconvert_exporter": "python",
   "pygments_lexer": "ipython3",
   "version": "3.10.18"
  }
 },
 "nbformat": 4,
 "nbformat_minor": 5
}
