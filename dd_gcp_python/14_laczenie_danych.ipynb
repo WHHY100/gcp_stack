{
 "cells": [
  {
   "cell_type": "code",
   "execution_count": 55,
   "id": "efee882b-892b-4afb-b0fe-6af6c9adb3e9",
   "metadata": {
    "tags": []
   },
   "outputs": [
    {
     "name": "stdout",
     "output_type": "stream",
     "text": [
      "          Date_x    Open_x    High_x     Low_x   Close_x   Volume_x  \\\n",
      "3871  2000-01-03  0.788991  0.846053  0.764944  0.841913  635869388   \n",
      "3872  2000-01-04  0.814419  0.832353  0.761398  0.771056  608076066   \n",
      "3873  2000-01-05  0.780516  0.831763  0.774801  0.782291  923691318   \n",
      "3874  2000-01-06  0.798453  0.805055  0.714686  0.714686  911409681   \n",
      "3875  2000-01-07  0.725821  0.759822  0.718627  0.748881  546787327   \n",
      "\n",
      "     Shortcut_x      Date_y    Open_y    High_y     Low_y   Close_y  \\\n",
      "3871       aapl  2000-01-03  0.788991  0.846053  0.764944  0.841913   \n",
      "3872       aapl  2000-01-04  0.814419  0.832353  0.761398  0.771056   \n",
      "3873       aapl  2000-01-05  0.780516  0.831763  0.774801  0.782291   \n",
      "3874       aapl  2000-01-06  0.798453  0.805055  0.714686  0.714686   \n",
      "3875       aapl  2000-01-07  0.725821  0.759822  0.718627  0.748881   \n",
      "\n",
      "       Volume_y Shortcut_y  \n",
      "3871  635869388      googl  \n",
      "3872  608076066      googl  \n",
      "3873  923691318      googl  \n",
      "3874  911409681      googl  \n",
      "3875  546787327      googl  \n",
      "<class 'pandas.core.frame.DataFrame'>\n"
     ]
    }
   ],
   "source": [
    "# --------------------------------------------\n",
    "# import bibliotek\n",
    "# --------------------------------------------\n",
    "import pandas as pd\n",
    "import numpy as np\n",
    "\n",
    "# --------------------------------------------\n",
    "# funkcja importująca dane\n",
    "# --------------------------------------------\n",
    "\n",
    "def import_csv_url(url, skrot):\n",
    "    df = pd.read_csv(url)\n",
    "    df = df_aapl.set_index(\"Data\", drop=False)\n",
    "    df = df_aapl.query(\"Data >= '2000-01-01'\").copy()\n",
    "    df[\"skrot_spolki\"] = skrot\n",
    "    \n",
    "    return df\n",
    "\n",
    "def zmiana_nazw_kolumn(df):\n",
    "    df.columns = ['Date', 'Open', 'High', 'Low', 'Close', 'Volume', 'Shortcut']\n",
    "    \n",
    "    return df\n",
    "\n",
    "# ----------------------------------------------------------\n",
    "# import aapl dataset\n",
    "# ----------------------------------------------------------\n",
    "df_aapl = import_csv_url(\"https://stooq.pl/q/d/l/?s=aapl.us&i=d\", \"aapl\")\n",
    "\n",
    "# ------------------------------------------------------------------------------------\n",
    "# import googl dataset\n",
    "# ------------------------------------------------------------------------------------\n",
    "df_googl = import_csv_url(\"https://stooq.pl/q/d/l/?s=googl.us&i=d\", \"googl\")\n",
    "\n",
    "# ------------------------------------------------------------------------------------\n",
    "# metoda concat - dziala jezeli nazwy kolumn są takie same\n",
    "# union all\n",
    "# ------------------------------------------------------------------------------------\n",
    "df_fin1 = pd.concat([df_aapl, df_googl])\n",
    "\n",
    "# ------------------------------------------------------------------------------------\n",
    "# metoda concat - dziala jezeli nazwy kolumn są takie same\n",
    "# outer join po kolumnie index jak nie ma pasujących zostawia nan w kazdym z datasetów\n",
    "# ------------------------------------------------------------------------------------\n",
    "df_fin2 = pd.concat([df_aapl, df_googl], axis = 1)\n",
    "\n",
    "# ------------------------------------------------------------------------------------\n",
    "# metoda concat - dziala jezeli nazwy kolumn są takie same\n",
    "# left join po kolumnie index, tylko pasujące inner join\n",
    "# ------------------------------------------------------------------------------------\n",
    "df_fin3 = pd.concat([df_aapl, df_googl], axis = 1, join = 'inner')\n",
    "\n",
    "# ------------------------------------------------------------------------------------\n",
    "# metoda merge (left join, right join, lub po index)\n",
    "# ------------------------------------------------------------------------------------\n",
    "df_aapl_tmp = zmiana_nazw_kolumn(df_aapl.copy())\n",
    "df_googl_tmp = zmiana_nazw_kolumn(df_googl.copy())\n",
    "\n",
    "df_fin4 = pd.merge(df_aapl_tmp, df_googl_tmp, how = 'left', left_index = True, right_index = True)\n",
    "df_fin5 = pd.merge(df_aapl_tmp, df_googl_tmp, how = 'inner', left_index = True, right_index = True)\n",
    "df_fin6 = pd.merge(df_aapl_tmp, df_googl_tmp, how = 'right', left_index = True, right_index = True)\n",
    "\n",
    "print(df_fin6.head())\n",
    "print(type(df_fin6))\n"
   ]
  }
 ],
 "metadata": {
  "environment": {
   "kernel": "conda-base-py",
   "name": "workbench-notebooks.m134",
   "type": "gcloud",
   "uri": "us-docker.pkg.dev/deeplearning-platform-release/gcr.io/workbench-notebooks:m134"
  },
  "kernelspec": {
   "display_name": "Python 3 (ipykernel) (Local)",
   "language": "python",
   "name": "conda-base-py"
  },
  "language_info": {
   "codemirror_mode": {
    "name": "ipython",
    "version": 3
   },
   "file_extension": ".py",
   "mimetype": "text/x-python",
   "name": "python",
   "nbconvert_exporter": "python",
   "pygments_lexer": "ipython3",
   "version": "3.10.18"
  }
 },
 "nbformat": 4,
 "nbformat_minor": 5
}
