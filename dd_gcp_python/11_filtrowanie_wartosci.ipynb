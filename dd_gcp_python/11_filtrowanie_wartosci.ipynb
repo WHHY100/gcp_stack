{
 "cells": [
  {
   "cell_type": "code",
   "execution_count": 1,
   "id": "7abcff05-c9ce-4c74-ae89-ccfe8281482e",
   "metadata": {
    "tags": []
   },
   "outputs": [
    {
     "name": "stdout",
     "output_type": "stream",
     "text": [
      "Requirement already satisfied: pandas-gbq in /opt/conda/lib/python3.10/site-packages (0.29.2)\n",
      "Requirement already satisfied: google-cloud-bigquery in /opt/conda/lib/python3.10/site-packages (3.38.0)\n",
      "Requirement already satisfied: setuptools in /opt/conda/lib/python3.10/site-packages (from pandas-gbq) (80.9.0)\n",
      "Requirement already satisfied: db-dtypes<2.0.0,>=1.0.4 in /opt/conda/lib/python3.10/site-packages (from pandas-gbq) (1.4.3)\n",
      "Requirement already satisfied: numpy>=1.18.1 in /opt/conda/lib/python3.10/site-packages (from pandas-gbq) (1.26.4)\n",
      "Requirement already satisfied: pandas>=1.1.4 in /opt/conda/lib/python3.10/site-packages (from pandas-gbq) (2.3.3)\n",
      "Requirement already satisfied: pyarrow>=4.0.0 in /opt/conda/lib/python3.10/site-packages (from pandas-gbq) (21.0.0)\n",
      "Requirement already satisfied: pydata-google-auth>=1.5.0 in /opt/conda/lib/python3.10/site-packages (from pandas-gbq) (1.9.1)\n",
      "Requirement already satisfied: google-api-core<3.0.0,>=2.10.2 in /opt/conda/lib/python3.10/site-packages (from pandas-gbq) (2.26.0)\n",
      "Requirement already satisfied: google-auth>=2.13.0 in /opt/conda/lib/python3.10/site-packages (from pandas-gbq) (2.41.1)\n",
      "Requirement already satisfied: google-auth-oauthlib>=0.7.0 in /opt/conda/lib/python3.10/site-packages (from pandas-gbq) (1.2.2)\n",
      "Requirement already satisfied: packaging>=22.0.0 in /opt/conda/lib/python3.10/site-packages (from pandas-gbq) (25.0)\n",
      "Requirement already satisfied: google-cloud-core<3.0.0,>=2.4.1 in /opt/conda/lib/python3.10/site-packages (from google-cloud-bigquery) (2.4.3)\n",
      "Requirement already satisfied: google-resumable-media<3.0.0,>=2.0.0 in /opt/conda/lib/python3.10/site-packages (from google-cloud-bigquery) (2.7.2)\n",
      "Requirement already satisfied: python-dateutil<3.0.0,>=2.8.2 in /opt/conda/lib/python3.10/site-packages (from google-cloud-bigquery) (2.9.0.post0)\n",
      "Requirement already satisfied: requests<3.0.0,>=2.21.0 in /opt/conda/lib/python3.10/site-packages (from google-cloud-bigquery) (2.32.5)\n",
      "Requirement already satisfied: googleapis-common-protos<2.0.0,>=1.56.2 in /opt/conda/lib/python3.10/site-packages (from google-api-core<3.0.0,>=2.10.2->pandas-gbq) (1.70.0)\n",
      "Requirement already satisfied: protobuf!=3.20.0,!=3.20.1,!=4.21.0,!=4.21.1,!=4.21.2,!=4.21.3,!=4.21.4,!=4.21.5,<7.0.0,>=3.19.5 in /opt/conda/lib/python3.10/site-packages (from google-api-core<3.0.0,>=2.10.2->pandas-gbq) (6.31.1)\n",
      "Requirement already satisfied: proto-plus<2.0.0,>=1.22.3 in /opt/conda/lib/python3.10/site-packages (from google-api-core<3.0.0,>=2.10.2->pandas-gbq) (1.26.1)\n",
      "Requirement already satisfied: grpcio<2.0.0,>=1.33.2 in /opt/conda/lib/python3.10/site-packages (from google-api-core[grpc]<3.0.0,>=2.11.1->google-cloud-bigquery) (1.75.1)\n",
      "Requirement already satisfied: grpcio-status<2.0.0,>=1.33.2 in /opt/conda/lib/python3.10/site-packages (from google-api-core[grpc]<3.0.0,>=2.11.1->google-cloud-bigquery) (1.75.1)\n",
      "Requirement already satisfied: cachetools<7.0,>=2.0.0 in /opt/conda/lib/python3.10/site-packages (from google-auth>=2.13.0->pandas-gbq) (6.2.0)\n",
      "Requirement already satisfied: pyasn1-modules>=0.2.1 in /opt/conda/lib/python3.10/site-packages (from google-auth>=2.13.0->pandas-gbq) (0.4.2)\n",
      "Requirement already satisfied: rsa<5,>=3.1.4 in /opt/conda/lib/python3.10/site-packages (from google-auth>=2.13.0->pandas-gbq) (4.9.1)\n",
      "Requirement already satisfied: google-crc32c<2.0dev,>=1.0 in /opt/conda/lib/python3.10/site-packages (from google-resumable-media<3.0.0,>=2.0.0->google-cloud-bigquery) (1.7.1)\n",
      "Requirement already satisfied: typing-extensions~=4.12 in /opt/conda/lib/python3.10/site-packages (from grpcio<2.0.0,>=1.33.2->google-api-core[grpc]<3.0.0,>=2.11.1->google-cloud-bigquery) (4.15.0)\n",
      "Requirement already satisfied: six>=1.5 in /opt/conda/lib/python3.10/site-packages (from python-dateutil<3.0.0,>=2.8.2->google-cloud-bigquery) (1.17.0)\n",
      "Requirement already satisfied: charset_normalizer<4,>=2 in /opt/conda/lib/python3.10/site-packages (from requests<3.0.0,>=2.21.0->google-cloud-bigquery) (3.4.2)\n",
      "Requirement already satisfied: idna<4,>=2.5 in /opt/conda/lib/python3.10/site-packages (from requests<3.0.0,>=2.21.0->google-cloud-bigquery) (3.10)\n",
      "Requirement already satisfied: urllib3<3,>=1.21.1 in /opt/conda/lib/python3.10/site-packages (from requests<3.0.0,>=2.21.0->google-cloud-bigquery) (2.5.0)\n",
      "Requirement already satisfied: certifi>=2017.4.17 in /opt/conda/lib/python3.10/site-packages (from requests<3.0.0,>=2.21.0->google-cloud-bigquery) (2025.10.5)\n",
      "Requirement already satisfied: pyasn1>=0.1.3 in /opt/conda/lib/python3.10/site-packages (from rsa<5,>=3.1.4->google-auth>=2.13.0->pandas-gbq) (0.6.1)\n",
      "Requirement already satisfied: requests-oauthlib>=0.7.0 in /opt/conda/lib/python3.10/site-packages (from google-auth-oauthlib>=0.7.0->pandas-gbq) (2.0.0)\n",
      "Requirement already satisfied: pytz>=2020.1 in /opt/conda/lib/python3.10/site-packages (from pandas>=1.1.4->pandas-gbq) (2025.2)\n",
      "Requirement already satisfied: tzdata>=2022.7 in /opt/conda/lib/python3.10/site-packages (from pandas>=1.1.4->pandas-gbq) (2025.2)\n",
      "Requirement already satisfied: oauthlib>=3.0.0 in /opt/conda/lib/python3.10/site-packages (from requests-oauthlib>=0.7.0->google-auth-oauthlib>=0.7.0->pandas-gbq) (3.3.1)\n"
     ]
    }
   ],
   "source": [
    "#INSTALACJA KONIECZNYCH PAKIETÓW\n",
    "!pip install --upgrade pandas-gbq google-cloud-bigquery"
   ]
  },
  {
   "cell_type": "code",
   "execution_count": 4,
   "id": "cd815449-d441-4208-b038-1573cf53c292",
   "metadata": {
    "tags": []
   },
   "outputs": [],
   "source": [
    "#IMPORT DANYCH ZGOOGLE BIGQUERY\n",
    "\n",
    "from google.cloud import bigquery\n",
    "import pandas as pd\n",
    "import numpy as np\n",
    "\n",
    "client = bigquery.Client()  # używa automatycznej autoryzacji w Vertex AI\n",
    "\n",
    "query = \"\"\"\n",
    "SELECT *\n",
    "FROM `sapient-will-427716-g3.dd_airflow.tab_gus_wynagrodzenia`\n",
    "WHERE\n",
    "    region in ('MAZOWIECKIE', 'POMORSKIE')\n",
    "\"\"\"\n",
    "\n",
    "query_job = client.query(query)\n",
    "df = query_job.to_dataframe()"
   ]
  },
  {
   "cell_type": "code",
   "execution_count": 8,
   "id": "fda0597c-ea3d-4f27-a41a-8bc5cdb97f6c",
   "metadata": {
    "tags": []
   },
   "outputs": [
    {
     "name": "stdout",
     "output_type": "stream",
     "text": [
      "  data_odlozenia_danych   rok  miesiac  wartosc_wynagrodzenia waluta  \\\n",
      "1   2025-10-19 00:41:15  2012        1                4498.68    PLN   \n",
      "3   2025-10-19 00:41:31  2012        2                4470.81    PLN   \n",
      "5   2025-10-19 00:41:44  2012        3                4686.72    PLN   \n",
      "7   2025-10-19 00:41:59  2012        4                4620.07    PLN   \n",
      "9   2025-10-19 00:42:12  2012        5                4392.96    PLN   \n",
      "\n",
      "        region  \n",
      "1  MAZOWIECKIE  \n",
      "3  MAZOWIECKIE  \n",
      "5  MAZOWIECKIE  \n",
      "7  MAZOWIECKIE  \n",
      "9  MAZOWIECKIE  \n",
      "  data_odlozenia_danych   rok  miesiac  wartosc_wynagrodzenia waluta  \\\n",
      "0   2025-10-19 00:41:15  2012        1                3723.78    PLN   \n",
      "2   2025-10-19 00:41:31  2012        2                3580.48    PLN   \n",
      "4   2025-10-19 00:41:44  2012        3                3661.09    PLN   \n",
      "6   2025-10-19 00:41:59  2012        4                3733.21    PLN   \n",
      "8   2025-10-19 00:42:12  2012        5                3644.59    PLN   \n",
      "\n",
      "      region  \n",
      "0  POMORSKIE  \n",
      "2  POMORSKIE  \n",
      "4  POMORSKIE  \n",
      "6  POMORSKIE  \n",
      "8  POMORSKIE  \n"
     ]
    }
   ],
   "source": [
    "df_mazowieckie = df.query('region == \"MAZOWIECKIE\"')\n",
    "df_pomorskie = df.query('region == \"POMORSKIE\"')\n",
    "\n",
    "df_mazowieckie = df_mazowieckie.fillna(0) # zastap wartosci puste 0\n",
    "df_pomorskie = df_pomorskie.fillna(0) # zastap wartosci puste 0\n",
    "\n",
    "print(df_mazowieckie.head())\n",
    "print(df_pomorskie.head())"
   ]
  },
  {
   "cell_type": "code",
   "execution_count": null,
   "id": "cc5dde34-b8f9-4d47-8bf5-44f4f644293c",
   "metadata": {},
   "outputs": [],
   "source": []
  }
 ],
 "metadata": {
  "environment": {
   "kernel": "conda-base-py",
   "name": "workbench-notebooks.m134",
   "type": "gcloud",
   "uri": "us-docker.pkg.dev/deeplearning-platform-release/gcr.io/workbench-notebooks:m134"
  },
  "kernelspec": {
   "display_name": "Python 3 (ipykernel) (Local)",
   "language": "python",
   "name": "conda-base-py"
  },
  "language_info": {
   "codemirror_mode": {
    "name": "ipython",
    "version": 3
   },
   "file_extension": ".py",
   "mimetype": "text/x-python",
   "name": "python",
   "nbconvert_exporter": "python",
   "pygments_lexer": "ipython3",
   "version": "3.10.18"
  }
 },
 "nbformat": 4,
 "nbformat_minor": 5
}
